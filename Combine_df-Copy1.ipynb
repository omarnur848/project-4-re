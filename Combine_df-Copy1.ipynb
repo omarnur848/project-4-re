{
 "cells": [
  {
   "cell_type": "code",
   "execution_count": 6,
   "metadata": {
    "colab": {
     "base_uri": "https://localhost:8080/"
    },
    "id": "3wpGrZsa1fs9",
    "outputId": "896be530-692f-46e1-fc98-849c0d34ae21"
   },
   "outputs": [
    {
     "name": "stdout",
     "output_type": "stream",
     "text": [
      "+----------+-------+-------+-------+-------+--------+--------------------+------------------+----------------+---------------------------+----------------------------+------+-------+\n",
      "| timestamp|   open|   high|    low|  close|  volume|          close_time|quote_asset_volume|number_of_trades|taker_buy_base_asset_volume|taker_buy_quote_asset_volume|ignore| source|\n",
      "+----------+-------+-------+-------+-------+--------+--------------------+------------------+----------------+---------------------------+----------------------------+------+-------+\n",
      "|1502942400|4261.48|4261.48|4261.48|4261.48|1.775183|2017-08-17 04:00:...|     7564.90685084|               3|                   0.075183|                320.39085084|     0|BTCUSDT|\n",
      "|1502942460|4261.48|4261.48|4261.48|4261.48|     0.0|2017-08-17 04:01:...|               0.0|               0|                        0.0|                         0.0|     0|BTCUSDT|\n",
      "|1502942520|4280.56|4280.56|4280.56|4280.56|0.261074|2017-08-17 04:02:...|     1117.54292144|               2|                   0.261074|               1117.54292144|     0|BTCUSDT|\n",
      "|1502942580|4261.48|4261.48|4261.48|4261.48|0.012008|2017-08-17 04:03:...|       51.17185184|               3|                   0.012008|                 51.17185184|     0|BTCUSDT|\n",
      "|1502942640|4261.48|4261.48|4261.48|4261.48|0.140796|2017-08-17 04:04:...|      599.99933808|               1|                   0.140796|                599.99933808|     0|BTCUSDT|\n",
      "|1502942700|4261.48|4261.48|4261.48|4261.48|     0.0|2017-08-17 04:05:...|               0.0|               0|                        0.0|                         0.0|     0|BTCUSDT|\n",
      "|1502942760|4261.48|4261.48|4261.48|4261.48|     0.0|2017-08-17 04:06:...|               0.0|               0|                        0.0|                         0.0|     0|BTCUSDT|\n",
      "|1502942820|4261.48|4261.48|4261.48|4261.48|     0.0|2017-08-17 04:07:...|               0.0|               0|                        0.0|                         0.0|     0|BTCUSDT|\n",
      "|1502942880|4261.48|4261.48|4261.48|4261.48|     0.0|2017-08-17 04:08:...|               0.0|               0|                        0.0|                         0.0|     0|BTCUSDT|\n",
      "|1502942940|4261.48|4261.48|4261.48|4261.48|     0.0|2017-08-17 04:09:...|               0.0|               0|                        0.0|                         0.0|     0|BTCUSDT|\n",
      "|1502943000|4261.48|4261.48|4261.48|4261.48|     0.0|2017-08-17 04:10:...|               0.0|               0|                        0.0|                         0.0|     0|BTCUSDT|\n",
      "|1502943060|4261.48|4261.48|4261.48|4261.48|     0.0|2017-08-17 04:11:...|               0.0|               0|                        0.0|                         0.0|     0|BTCUSDT|\n",
      "|1502943120|4261.48|4261.48|4261.48|4261.48|     0.0|2017-08-17 04:12:...|               0.0|               0|                        0.0|                         0.0|     0|BTCUSDT|\n",
      "|1502943180|4261.48|4261.48|4261.48|4261.48|     0.0|2017-08-17 04:13:...|               0.0|               0|                        0.0|                         0.0|     0|BTCUSDT|\n",
      "|1502943240|4261.48|4261.48|4261.48|4261.48|     0.0|2017-08-17 04:14:...|               0.0|               0|                        0.0|                         0.0|     0|BTCUSDT|\n",
      "|1502943300|4261.48|4261.48|4261.48|4261.48|     0.0|2017-08-17 04:15:...|               0.0|               0|                        0.0|                         0.0|     0|BTCUSDT|\n",
      "|1502943360|4261.48|4261.48|4261.48|4261.48|     0.0|2017-08-17 04:16:...|               0.0|               0|                        0.0|                         0.0|     0|BTCUSDT|\n",
      "|1502943420|4261.48|4264.88|4261.48|4264.88|0.075455|2017-08-17 04:17:...|       321.6033364|               2|                   0.075455|                 321.6033364|     0|BTCUSDT|\n",
      "|1502943480|4264.88|4264.88|4264.88|4264.88|     0.0|2017-08-17 04:18:...|               0.0|               0|                        0.0|                         0.0|     0|BTCUSDT|\n",
      "|1502943540|4261.48|4261.48|4261.48|4261.48|0.409211|2017-08-17 04:19:...|     1743.84449228|               7|                       0.01|                     42.6148|     0|BTCUSDT|\n",
      "+----------+-------+-------+-------+-------+--------+--------------------+------------------+----------------+---------------------------+----------------------------+------+-------+\n",
      "only showing top 20 rows\n",
      "\n"
     ]
    }
   ],
   "source": [
    "import findspark\n",
    "findspark.init()\n",
    "from pyspark.sql import SparkSession\n",
    "from pyspark.sql.functions import lit, unix_timestamp, col\n",
    "\n",
    "# Create a SparkSession\n",
    "spark = SparkSession.builder.appName(\"CombineDataFrames\").getOrCreate()\n",
    "\n",
    "# Load the dataframes\n",
    "btc_df = spark.read.csv(\"BTCUSDT.csv\", header=True, inferSchema=True)\n",
    "doge_df = spark.read.csv(\"DOGEUSDT.csv\", header=True, inferSchema=True)\n",
    "eth_df = spark.read.csv(\"ETHUSDT.csv\", header=True, inferSchema=True)\n",
    "\n",
    "# Add a source identifier column\n",
    "btc_df = btc_df.withColumn(\"source\", lit(\"BTCUSDT\"))\n",
    "doge_df = doge_df.withColumn(\"source\", lit(\"DOGEUSDT\"))\n",
    "eth_df = eth_df.withColumn(\"source\", lit(\"ETHUSDT\"))\n",
    "\n",
    "# Combine the dataframes\n",
    "combined_df = btc_df.unionByName(doge_df).unionByName(eth_df)\n",
    "\n",
    "# Convert the 'timestamp' column to Unix timestamps (numerical representation)\n",
    "combined_df = combined_df.withColumn(\"timestamp\", unix_timestamp(\"timestamp\"))\n",
    "\n",
    "# Handle null or missing values in 'timestamp' column\n",
    "# Replace nulls with 0 before converting to numpy array\n",
    "combined_df = combined_df.withColumn(\"timestamp\", col(\"timestamp\").cast(\"long\")) # Ensure timestamp is of long type\n",
    "combined_df = combined_df.fillna(0, subset=['timestamp'])  # Replace nulls with 0\n",
    "\n",
    "\n",
    "# Show the combined dataframe (optional)\n",
    "combined_df.show()"
   ]
  },
  {
   "cell_type": "code",
   "execution_count": 7,
   "metadata": {
    "id": "H-wAynKH5ofc"
   },
   "outputs": [],
   "source": [
    "combined_df.coalesce(1).write.csv(\"combined_data.csv\", header=True, mode=\"overwrite\")"
   ]
  },
  {
   "cell_type": "code",
   "execution_count": 4,
   "metadata": {
    "colab": {
     "base_uri": "https://localhost:8080/"
    },
    "id": "4FKq5Ztt1uFR",
    "outputId": "4c41ebe0-88fd-412d-f62f-875bfb087cc6"
   },
   "outputs": [
    {
     "name": "stdout",
     "output_type": "stream",
     "text": [
      "Collecting findspark\n",
      "  Downloading findspark-2.0.1-py2.py3-none-any.whl.metadata (352 bytes)\n",
      "Downloading findspark-2.0.1-py2.py3-none-any.whl (4.4 kB)\n",
      "Installing collected packages: findspark\n",
      "Successfully installed findspark-2.0.1\n"
     ]
    }
   ],
   "source": [
    "!pip install findspark"
   ]
  },
  {
   "cell_type": "code",
   "execution_count": 5,
   "metadata": {
    "colab": {
     "base_uri": "https://localhost:8080/"
    },
    "id": "I7tKhhz61wzl",
    "outputId": "ad64929e-e222-40ba-dd73-d078ab7da544"
   },
   "outputs": [
    {
     "name": "stdout",
     "output_type": "stream",
     "text": [
      "Requirement already satisfied: pyspark in /usr/local/lib/python3.11/dist-packages (3.5.4)\n",
      "Requirement already satisfied: py4j==0.10.9.7 in /usr/local/lib/python3.11/dist-packages (from pyspark) (0.10.9.7)\n"
     ]
    }
   ],
   "source": [
    "pip install pyspark"
   ]
  }
 ],
 "metadata": {
  "colab": {
   "provenance": []
  },
  "kernelspec": {
   "display_name": "Python 3 (ipykernel)",
   "language": "python",
   "name": "python3"
  },
  "language_info": {
   "codemirror_mode": {
    "name": "ipython",
    "version": 3
   },
   "file_extension": ".py",
   "mimetype": "text/x-python",
   "name": "python",
   "nbconvert_exporter": "python",
   "pygments_lexer": "ipython3",
   "version": "3.12.4"
  }
 },
 "nbformat": 4,
 "nbformat_minor": 4
}
